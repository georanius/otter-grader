{
 "cells": [
  {
   "cell_type": "code",
   "execution_count": null,
   "id": "edbf498c",
   "metadata": {
    "deletable": false,
    "editable": false
   },
   "outputs": [],
   "source": [
    "# Initialize Otter\n",
    "import otter\n",
    "grader = otter.Notebook(\"env-validation.ipynb\")"
   ]
  },
  {
   "cell_type": "markdown",
   "id": "aaa10bb7-6351-4f2e-956a-5534f3ff7d5c",
   "metadata": {},
   "source": [
    "# Environment Validation\n",
    "\n",
    "This is a sample assignment notebook for validating that Otter works in your environment.\n",
    "\n",
    "To test your environment, run\n",
    "\n",
    "```console\n",
    "otter assign env-validation.ipynb dist -v\n",
    "```\n",
    "\n",
    "You should see a directory called `dist` created with the autograder and student subdirectories and a `data.csv` file in each. You should also see an autograder zip file in the autograder directory. You should also see in the output of the `otter assign` command that the tests were run on the notebook and they succeded."
   ]
  },
  {
   "cell_type": "code",
   "execution_count": null,
   "id": "bede384b-e9e0-4f1d-af26-72ef88d4050c",
   "metadata": {},
   "outputs": [],
   "source": [
    "import pandas as pd\n",
    "import random"
   ]
  },
  {
   "cell_type": "markdown",
   "id": "0c4d7206-31bd-4bd1-9010-fd566cf2550b",
   "metadata": {
    "deletable": false,
    "editable": false
   },
   "source": [
    "**Question 1:** Fill in the `hailstone` function below which returns the hailstone sequence of the number `n`."
   ]
  },
  {
   "cell_type": "code",
   "execution_count": null,
   "id": "b081ee8d-f150-4cd4-9b22-132cd55fbd69",
   "metadata": {
    "tags": []
   },
   "outputs": [],
   "source": [
    "def hailstone(n):\n",
    "    ...\n",
    "\n",
    "hailstone(7)"
   ]
  },
  {
   "cell_type": "code",
   "execution_count": null,
   "id": "a664be05",
   "metadata": {
    "deletable": false,
    "editable": false
   },
   "outputs": [],
   "source": [
    "grader.check(\"q1\")"
   ]
  },
  {
   "cell_type": "markdown",
   "id": "4ccbff13-6d4f-4fd1-b742-45bea8d45f8f",
   "metadata": {
    "deletable": false,
    "editable": false
   },
   "source": [
    "<!-- BEGIN QUESTION -->\n",
    "\n",
    "**Question 2.** Evaluate the integral:\n",
    "\n",
    "$$\n",
    "\\int x e^x \\, \\mathrm dx\n",
    "$$"
   ]
  },
  {
   "cell_type": "markdown",
   "id": "d1fba788-5db2-4660-a01e-1b38cf759673",
   "metadata": {},
   "source": [
    "$$\n",
    "\\begin{aligned}\n",
    "\\int x e^x \\, \\mathrm dx &= \\texttt{YOUR MATH HERE} \\\\\n",
    "\\end{aligned}\n",
    "$$"
   ]
  },
  {
   "cell_type": "markdown",
   "id": "7361f277-e31f-4d26-990c-40edcb347006",
   "metadata": {
    "deletable": false,
    "editable": false
   },
   "source": [
    "<!-- END QUESTION -->\n",
    "\n",
    "**Question 3:** Load the data from `data.csv` and perform an A/B test to determine whether the population in condition `A` has a statistically significant difference in `val` rfom the population in condition `B`. "
   ]
  },
  {
   "cell_type": "code",
   "execution_count": null,
   "id": "b1b7f0a0-08ed-4cd3-840c-f47f2000de04",
   "metadata": {
    "tags": []
   },
   "outputs": [],
   "source": [
    "df = pd.read_csv(\"data.csv\")\n",
    "\n",
    "def test_stat(df, cond_col):\n",
    "    \"\"\"\n",
    "    Calculate the test state on a dataframe. Assumes that the \n",
    "    \"\"\"\n",
    "    return abs(df[df[cond_col] == \"A\"][\"val\"].mean() - df[df[cond_col] == \"B\"][\"val\"].mean())\n",
    "\n",
    "observed = ...\n",
    "\n",
    "stats = []\n",
    "for _ in range(1000):\n",
    "    df[\"shuffled_cond\"] = ...\n",
    "    ...\n",
    "\n",
    "p_value = ...\n",
    "print(f\"A/B test p-value: {p_value}\")"
   ]
  },
  {
   "cell_type": "code",
   "execution_count": null,
   "id": "a0563cca",
   "metadata": {
    "deletable": false,
    "editable": false
   },
   "outputs": [],
   "source": [
    "grader.check(\"q3\")"
   ]
  },
  {
   "cell_type": "markdown",
   "id": "b2a3a59b",
   "metadata": {
    "deletable": false,
    "editable": false
   },
   "source": [
    "## Submission\n",
    "\n",
    "Make sure you have run all cells in your notebook in order before running the cell below, so that all images/graphs appear in the output. The cell below will generate a zip file for you to submit. **Please save before exporting!**"
   ]
  },
  {
   "cell_type": "code",
   "execution_count": null,
   "id": "26d73d80",
   "metadata": {
    "deletable": false,
    "editable": false
   },
   "outputs": [],
   "source": [
    "# Save your notebook first, then run this cell to export your submission.\n",
    "grader.export(run_tests=True)"
   ]
  },
  {
   "cell_type": "markdown",
   "id": "137e0497",
   "metadata": {},
   "source": [
    " "
   ]
  }
 ],
 "metadata": {
  "kernelspec": {
   "display_name": "Python 3 (ipykernel)",
   "language": "python",
   "name": "python3"
  },
  "language_info": {
   "codemirror_mode": {
    "name": "ipython",
    "version": 3
   },
   "file_extension": ".py",
   "mimetype": "text/x-python",
   "name": "python",
   "nbconvert_exporter": "python",
   "pygments_lexer": "ipython3",
   "version": "3.10.13"
  },
  "otter": {
   "OK_FORMAT": true,
   "tests": {
    "q1": {
     "name": "q1",
     "points": null,
     "suites": [
      {
       "cases": [
        {
         "code": ">>> assert hailstone(1) == [1]\n",
         "hidden": false,
         "locked": false
        },
        {
         "code": ">>> assert hailstone(2) == [2, 1]\n",
         "hidden": false,
         "locked": false
        },
        {
         "code": ">>> assert hailstone(3) == [3, 10, 5, 16, 8, 4, 2, 1]\n",
         "hidden": false,
         "locked": false
        }
       ],
       "scored": true,
       "setup": "",
       "teardown": "",
       "type": "doctest"
      }
     ]
    },
    "q3": {
     "name": "q3",
     "points": null,
     "suites": [
      {
       "cases": [
        {
         "code": ">>> assert len(stats) == 1000\n",
         "hidden": false,
         "locked": false
        },
        {
         "code": ">>> assert 0 <= p_value <= 1\n",
         "hidden": false,
         "locked": false
        }
       ],
       "scored": true,
       "setup": "",
       "teardown": "",
       "type": "doctest"
      }
     ]
    }
   }
  }
 },
 "nbformat": 4,
 "nbformat_minor": 5
}
