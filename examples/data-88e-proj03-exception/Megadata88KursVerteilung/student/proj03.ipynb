{
 "cells": [
  {
   "cell_type": "code",
   "execution_count": null,
   "metadata": {
    "deletable": false,
    "editable": false
   },
   "outputs": [],
   "source": [
    "# Initialize Otter\n",
    "import otter\n",
    "grader = otter.Notebook(\"proj03.ipynb\")"
   ]
  },
  {
   "cell_type": "markdown",
   "metadata": {
    "tags": [
     "ignore"
    ]
   },
   "source": [
    "<table style=\"width: 100%;\">\n",
    "    <tr style=\"background-color: transparent;\"><td>\n",
    "        <img src=\"https://data-88e.github.io/assets/images/blue_text.png\" width=\"250px\" style=\"margin-left: 0;\" />\n",
    "    </td><td>\n",
    "        <p style=\"text-align: right; font-size: 10pt;\"><strong>Economic Models</strong>, Spring 2020<br>\n",
    "            Dr. Eric Van Dusen<br>\n",
    "            Notebook by Chris Pyles</p></td></tr>\n",
    "</table>"
   ]
  },
  {
   "cell_type": "markdown",
   "metadata": {},
   "source": [
    "# Project 3: Econometrics and Data Science"
   ]
  },
  {
   "cell_type": "markdown",
   "metadata": {
    "tags": [
     "ignore"
    ]
   },
   "source": [
    "This project focuses on the application of the data science techniques from lecture. You will practice single variable ordinary least squares regression in the Data 8 style, go through a guided introduction to multivariate OLS using the package `statsmodels`, and finally create your own multivariate OLS model.\n",
    "\n",
    "After this project, you should be able to\n",
    "\n",
    "1. Write and apply the necesssary functions to perform single variable OLS\n",
    "2. Use the `statsmodels` package to create multivariate OLS models\n",
    "3. Understand how to quantitatively evaluate models using the root-mean-squared error\n",
    "4. Look for and use relationships between variables to select features for regression"
   ]
  },
  {
   "cell_type": "code",
   "execution_count": null,
   "metadata": {
    "tags": []
   },
   "outputs": [],
   "source": [
    "import pandas as pd\n",
    "import matplotlib.pyplot as plt\n",
    "import numpy as np\n",
    "import statsmodels.api as sm\n",
    "import warnings\n",
    "\n",
    "from ipywidgets import interact, Dropdown, IntSlider\n",
    "\n",
    "warnings.simplefilter(action='ignore')\n",
    "%matplotlib inline\n",
    "plt.style.use('seaborn-muted')\n",
    "plt.rcParams[\"figure.figsize\"] = [10,7]"
   ]
  },
  {
   "cell_type": "markdown",
   "metadata": {
    "tags": [
     "ignore"
    ]
   },
   "source": [
    "In this project, we will be working with data on credit card defaults and billing. The data covers April to September 2005, with one row for each cardholder. It has the following columns:\n",
    "\n",
    "| Column | Description |\n",
    "|-----|-----|\n",
    "| `credit` | Total amount of credit |\n",
    "| `sex` | Cardholder sex |\n",
    "| `education` | Cardholder education level |\n",
    "| `martial_status` | Cardholder marital status |\n",
    "| `age` | Cardholder age |\n",
    "| `bill_{month}05` | Bill amount for specific month |\n",
    "| `paid_{month}05` | Amount paid in specified month |\n",
    "| `default` | Whether the cardholder defaulted |\n",
    "\n",
    "In the cell below, we load the dataset."
   ]
  },
  {
   "cell_type": "code",
   "execution_count": null,
   "metadata": {
    "tags": []
   },
   "outputs": [],
   "source": [
    "defaults = pd.read_csv(\"defaults.csv\")\n",
    "defaults"
   ]
  },
  {
   "cell_type": "markdown",
   "metadata": {
    "deletable": false,
    "editable": false,
    "tags": [
     "ignore"
    ]
   },
   "source": [
    "**Question 0.1:** Which of the columns in `defaults` would we need dummies for in order to use in an OLS model? Assign `q0_1` to an list of these column _labels_."
   ]
  },
  {
   "cell_type": "code",
   "execution_count": null,
   "metadata": {
    "tags": [
     "ignore"
    ]
   },
   "outputs": [],
   "source": [
    "q0_1 = ...\n",
    "q0_1"
   ]
  },
  {
   "cell_type": "code",
   "execution_count": null,
   "metadata": {
    "deletable": false,
    "editable": false
   },
   "outputs": [],
   "source": [
    "grader.check(\"q0_1\")"
   ]
  },
  {
   "cell_type": "markdown",
   "metadata": {
    "tags": [
     "ignore"
    ]
   },
   "source": [
    "In order to use the columns you chose, we will need to create dummies for them. In lecture, we showed a function (defined in the imports cell) that will get dummies for a variable for you."
   ]
  },
  {
   "cell_type": "markdown",
   "metadata": {
    "deletable": false,
    "editable": false
   },
   "source": [
    "**Question 0.2:** Use `pd.get_dummies` to get dummies for the variables you listed in `q0_1`."
   ]
  },
  {
   "cell_type": "code",
   "execution_count": null,
   "metadata": {
    "tags": []
   },
   "outputs": [],
   "source": [
    "defaults = ..."
   ]
  },
  {
   "cell_type": "code",
   "execution_count": null,
   "metadata": {
    "deletable": false,
    "editable": false
   },
   "outputs": [],
   "source": [
    "grader.check(\"q0_2\")"
   ]
  },
  {
   "cell_type": "markdown",
   "metadata": {
    "tags": [
     "ignore"
    ]
   },
   "source": [
    "## Part 1: Single Variable OLS\n",
    "\n",
    "We'll start by doing some single variable linear regression, ala Data 8. To begin, recall that we can model $y$ based on $x$ using the form\n",
    "\n",
    "$$\\Large\n",
    "\\hat{y} = \\hat{\\beta}_0 + \\hat{\\beta}_1 x\n",
    "$$\n",
    "\n",
    "We can define the **correlation coefficient** of two values to be the mean of the product of their values in standard units."
   ]
  },
  {
   "cell_type": "markdown",
   "metadata": {
    "deletable": false,
    "editable": false
   },
   "source": [
    "**Question 1.1:** Complete the `corr` function below to compute the correlation coefficient of two arrays `x` and `y` based on the formula\n",
    "\n",
    "$$\\Large\n",
    "r = \\text{mean} \\left ( x_\\text{SU} \\cdot y_\\text{SU} \\right )\n",
    "$$\n",
    "\n",
    "_Hint:_ You may find the `su` function, which converts an array to standard units, helpful."
   ]
  },
  {
   "cell_type": "code",
   "execution_count": null,
   "metadata": {
    "tags": []
   },
   "outputs": [],
   "source": [
    "def su(arr):\n",
    "    \"\"\"Converts array arr to standard units\"\"\"\n",
    "    return (arr - np.mean(arr)) / np.std(arr)\n",
    "\n",
    "def corr(x, y):\n",
    "    \"\"\"Calculates the correlation coefficient of two arrays\"\"\"\n",
    "    ..."
   ]
  },
  {
   "cell_type": "code",
   "execution_count": null,
   "metadata": {
    "deletable": false,
    "editable": false
   },
   "outputs": [],
   "source": [
    "grader.check(\"q1_1\")"
   ]
  },
  {
   "cell_type": "markdown",
   "metadata": {
    "tags": [
     "ignore"
    ]
   },
   "source": [
    "From this $r$ value that we have calculated above, we can compute the slope $\\beta_1$ and intercept $\\beta_0$ of the best-fit line using the formulas below.\n",
    "\n",
    "$$\\Large\n",
    "\\beta_1 = r \\frac{\\hat{\\sigma}_y}{\\hat{\\sigma}_x}\n",
    "\\qquad \\text{ and } \\qquad\n",
    "\\beta_0 = \\hat{\\mu}_y - \\beta_1 \\cdot \\hat{\\mu}_x\n",
    "$$"
   ]
  },
  {
   "cell_type": "markdown",
   "metadata": {
    "deletable": false,
    "editable": false
   },
   "source": [
    "**Question 1.2:** Using your `corr` function, fill in the `slope` and `intercept` functions below which compute the values of $\\beta_1$ and $\\beta_0$ for the line of best fit that predicts `y` based on `x`. Your function should use vectorized arithmetic (i.e. no `for` loops).\n",
    "\n",
    "_Hint:_ You may find your `slope` function useful in `intercept`."
   ]
  },
  {
   "cell_type": "code",
   "execution_count": null,
   "metadata": {
    "tags": []
   },
   "outputs": [],
   "source": [
    "def slope(x, y):\n",
    "    \"\"\"Computes the slope of the best-fit line of y based on x\"\"\"\n",
    "    ...\n",
    "\n",
    "def intercept(x, y):\n",
    "    \"\"\"Computes the intercept of the best-fit line of y based on x\"\"\"\n",
    "    ..."
   ]
  },
  {
   "cell_type": "code",
   "execution_count": null,
   "metadata": {
    "deletable": false,
    "editable": false
   },
   "outputs": [],
   "source": [
    "grader.check(\"q1_2\")"
   ]
  },
  {
   "cell_type": "markdown",
   "metadata": {
    "tags": [
     "ignore"
    ]
   },
   "source": [
    "---\n",
    "\n",
    "### References\n",
    "\n",
    "* Data from https://archive.ics.uci.edu/ml/datasets/default+of+credit+card+clients#"
   ]
  },
  {
   "cell_type": "markdown",
   "metadata": {
    "deletable": false,
    "editable": false
   },
   "source": [
    "## Submission\n",
    "\n",
    "Make sure you have run all cells in your notebook in order before running the cell below, so that all images/graphs appear in the output. The cell below will generate a zip file for you to submit. **Please save before exporting!**"
   ]
  },
  {
   "cell_type": "code",
   "execution_count": null,
   "metadata": {
    "deletable": false,
    "editable": false
   },
   "outputs": [],
   "source": [
    "# Save your notebook first, then run this cell to export your submission.\n",
    "grader.export(run_tests=True)"
   ]
  },
  {
   "cell_type": "markdown",
   "metadata": {},
   "source": [
    " "
   ]
  }
 ],
 "metadata": {
  "@webio": {
   "lastCommId": null,
   "lastKernelId": null
  },
  "kernelspec": {
   "display_name": "Python 3 (ipykernel)",
   "language": "python",
   "name": "python3"
  },
  "language_info": {
   "codemirror_mode": {
    "name": "ipython",
    "version": 3
   },
   "file_extension": ".py",
   "mimetype": "text/x-python",
   "name": "python",
   "nbconvert_exporter": "python",
   "pygments_lexer": "ipython3",
   "version": "3.10.10"
  },
  "otter": {
   "OK_FORMAT": false,
   "tests": {
    "q0_1": "from otter.test_files import test_case\n\nOK_FORMAT = False\n\nname = \"q0_1\"\npoints = None\n\n@test_case(points=None, hidden=False)\ndef test_q0_1(q0_1):\n    assert len(q0_1) in [3, 4]\n    assert \"sex\" in q0_1\n    assert \"education\" in q0_1\n    assert \"marital_status\" in q0_1\n\n",
    "q0_2": "from otter.test_files import test_case\n\nOK_FORMAT = False\n\nname = \"q0_2\"\npoints = None\n\n@test_case(points=None, hidden=False)\ndef test_q0_2(defaults):\n    assert \"education\" not in defaults.columns\n    assert \"marital_status\" not in defaults.columns\n    assert \"sex_male\" in defaults.columns\n\n",
    "q1_1": "from otter.test_files import test_case\n\nOK_FORMAT = False\n\nname = \"q1_1\"\npoints = None\n\n@test_case(points=None, hidden=False)\ndef test_q1_1_1(np, corr):\n    np.random.seed(1234)\n    x2 = np.random.uniform(0, 10, 5)\n    y2 = np.random.uniform(0, 10, 5)\n    assert np.isclose(corr(x2, y2), 0.6410799722591175)\n\n",
    "q1_2": "from otter.test_files import test_case\n\nOK_FORMAT = False\n\nname = \"q1_2\"\npoints = None\n\n@test_case(points=None, hidden=False)\ndef test_q1_2_1(np, slope):\n    np.random.seed(1234)\n    x2 = np.random.uniform(0, 10, 5)\n    y2 = np.random.uniform(0, 10, 5)\n    assert np.isclose(slope(x2, y2), 0.853965497371089)\n\n@test_case(points=None, hidden=False)\ndef test_q1_2_2(np, intercept):\n    np.random.seed(1234)\n    x2 = np.random.uniform(0, 10, 5)\n    y2 = np.random.uniform(0, 10, 5)\n    assert np.isclose(intercept(x2, y2), 1.5592892975597108)\n\n"
   }
  },
  "varInspector": {
   "cols": {
    "lenName": 16,
    "lenType": 16,
    "lenVar": 40
   },
   "kernels_config": {
    "python": {
     "delete_cmd_postfix": "",
     "delete_cmd_prefix": "del ",
     "library": "var_list.py",
     "varRefreshCmd": "print(var_dic_list())"
    },
    "r": {
     "delete_cmd_postfix": ") ",
     "delete_cmd_prefix": "rm(",
     "library": "var_list.r",
     "varRefreshCmd": "cat(var_dic_list()) "
    }
   },
   "types_to_exclude": [
    "module",
    "function",
    "builtin_function_or_method",
    "instance",
    "_Feature"
   ],
   "window_display": false
  }
 },
 "nbformat": 4,
 "nbformat_minor": 4
}
